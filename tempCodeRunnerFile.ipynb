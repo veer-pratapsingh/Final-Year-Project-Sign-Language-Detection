model_json = model.to_json()
with open(r"D:\FinalProject",'w') as json_file:
    json_file.write(model_json)
model.save(r"